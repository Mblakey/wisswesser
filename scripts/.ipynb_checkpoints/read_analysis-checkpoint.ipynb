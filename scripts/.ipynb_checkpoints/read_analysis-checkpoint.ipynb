{
 "cells": [
  {
   "cell_type": "code",
   "execution_count": 1,
   "id": "bf26839e",
   "metadata": {},
   "outputs": [],
   "source": [
    "import pandas as pd\n",
    "import rdkit\n",
    "from rdkit import Chem\n",
    "from rdkit.Chem import Descriptors\n",
    "import seaborn as sns\n",
    "import matplotlib.pyplot as plt"
   ]
  },
  {
   "cell_type": "code",
   "execution_count": 27,
   "id": "2b87c1c5",
   "metadata": {},
   "outputs": [],
   "source": [
    "def read_file_lines(file_path):\n",
    "    lines = []\n",
    "    try:\n",
    "        with open(file_path, 'r') as file:\n",
    "            for line in file:\n",
    "                lines.append(line.strip())  # Strip removes leading/trailing whitespaces and newline characters\n",
    "    except FileNotFoundError:\n",
    "        print(f\"Error: File '{file_path}' not found.\")\n",
    "    except IOError:\n",
    "        print(f\"Error: Unable to read from file '{file_path}'.\")\n",
    "    return lines\n",
    "\n",
    "def calculate_cycles(mol):\n",
    "    # Get the smallest set of smallest rings (cycles)\n",
    "    cycles = Chem.GetSymmSSSR(mol)\n",
    "    num_cycles = len(cycles)\n",
    "    return num_cycles\n",
    "\n",
    "def calculate_branches(mol):\n",
    "    branch_pattern = Chem.MolFromSmarts('[!#1]~[!#1]')\n",
    "    matches = mol.GetSubstructMatches(branch_pattern)\n",
    "    return len(matches)\n",
    "\n",
    "def plot_distribution(df, target,save=\"\"):\n",
    "    # Step 3: Plot the molecular weight distribution using seaborn\n",
    "    plt.figure(figsize=(8, 6))\n",
    "    sns.histplot(data=df, x=target, kde=True, bins=30, color=\"skyblue\")\n",
    "    plt.xlabel(\"\")\n",
    "    plt.ylabel(\"\")\n",
    "\n",
    "    if(save != \"\")\n",
    "        plt.savefig(save)\n",
    "    \n",
    "    \n",
    "    plt.show()\n",
    "    return True\n",
    "\n",
    "def calculate_metrics(dataset):\n",
    "    # Step 1: Calculate molecular weights using RDKit\n",
    "    molecular_weights = []\n",
    "    ring_counts = []\n",
    "    branch_counts = []\n",
    "    for smiles in dataset[\"SMILES\"]:\n",
    "        mol = Chem.MolFromSmiles(smiles)\n",
    "        if mol:\n",
    "            molecular_weight = rdkit.Chem.Descriptors.ExactMolWt(mol)\n",
    "            molecular_weights.append(molecular_weight)\n",
    "            ring_counts.append(calculate_cycles(mol))\n",
    "            branch_counts.append(calculate_branches(mol))\n",
    "            \n",
    "    df = pd.DataFrame({\"Molecular Weight\": molecular_weights,\"Cycles\":ring_counts, \"Branches\":branch_counts})\n",
    "    return df"
   ]
  },
  {
   "cell_type": "code",
   "execution_count": 28,
   "id": "099a5c27",
   "metadata": {},
   "outputs": [
    {
     "name": "stdout",
     "output_type": "stream",
     "text": [
      "2934 compounds in chembl\n",
      "6589 compounds in pubchem\n",
      "15934 compounds in chemspider\n",
      "422 compounds in encoding book\n",
      "\n",
      "25879 total compounds\n"
     ]
    }
   ],
   "source": [
    "chembl = pd.read_csv(\"../data/chembl24.tsv\",sep = '\\t', names = [\"WLN\",\"CHEMBLID\",\"SMILES\"])\n",
    "chemspider = pd.read_csv(\"../data/chemspider.tsv\",sep = '\\t', names = [\"WLN\",\"SMILES\"])\n",
    "pubchem = pd.DataFrame(read_file_lines(\"../data/pubchem.txt\"),columns=[\"WLN\"])\n",
    "book = pd.read_csv(\"../data/smith.tsv\",names=[\"WLN\",\"SMILES\"])\n",
    "\n",
    "print(f\"{len(chembl)} compounds in chembl\")\n",
    "print(f\"{len(pubchem)} compounds in pubchem\")\n",
    "print(f\"{len(chemspider)} compounds in chemspider\")\n",
    "print(f\"{len(book)} compounds in encoding book\")\n",
    "\n",
    "print()\n",
    "pre_total = len(chembl) + len(chemspider) + len(pubchem) + len(book)\n",
    "print(f\"{pre_total} total compounds\")"
   ]
  },
  {
   "cell_type": "code",
   "execution_count": 29,
   "id": "e23c83e4",
   "metadata": {},
   "outputs": [
    {
     "data": {
      "text/html": [
       "<div>\n",
       "<style scoped>\n",
       "    .dataframe tbody tr th:only-of-type {\n",
       "        vertical-align: middle;\n",
       "    }\n",
       "\n",
       "    .dataframe tbody tr th {\n",
       "        vertical-align: top;\n",
       "    }\n",
       "\n",
       "    .dataframe thead th {\n",
       "        text-align: right;\n",
       "    }\n",
       "</style>\n",
       "<table border=\"1\" class=\"dataframe\">\n",
       "  <thead>\n",
       "    <tr style=\"text-align: right;\">\n",
       "      <th></th>\n",
       "      <th>Molecular Weight</th>\n",
       "      <th>Cycles</th>\n",
       "      <th>Branches</th>\n",
       "    </tr>\n",
       "  </thead>\n",
       "  <tbody>\n",
       "    <tr>\n",
       "      <th>0</th>\n",
       "      <td>109.969005</td>\n",
       "      <td>0</td>\n",
       "      <td>4</td>\n",
       "    </tr>\n",
       "    <tr>\n",
       "      <th>1</th>\n",
       "      <td>162.104465</td>\n",
       "      <td>0</td>\n",
       "      <td>11</td>\n",
       "    </tr>\n",
       "    <tr>\n",
       "      <th>2</th>\n",
       "      <td>302.297351</td>\n",
       "      <td>0</td>\n",
       "      <td>21</td>\n",
       "    </tr>\n",
       "    <tr>\n",
       "      <th>3</th>\n",
       "      <td>176.940179</td>\n",
       "      <td>0</td>\n",
       "      <td>8</td>\n",
       "    </tr>\n",
       "    <tr>\n",
       "      <th>4</th>\n",
       "      <td>1286.853734</td>\n",
       "      <td>0</td>\n",
       "      <td>87</td>\n",
       "    </tr>\n",
       "    <tr>\n",
       "      <th>...</th>\n",
       "      <td>...</td>\n",
       "      <td>...</td>\n",
       "      <td>...</td>\n",
       "    </tr>\n",
       "    <tr>\n",
       "      <th>2929</th>\n",
       "      <td>132.952711</td>\n",
       "      <td>0</td>\n",
       "      <td>4</td>\n",
       "    </tr>\n",
       "    <tr>\n",
       "      <th>2930</th>\n",
       "      <td>91.018877</td>\n",
       "      <td>0</td>\n",
       "      <td>4</td>\n",
       "    </tr>\n",
       "    <tr>\n",
       "      <th>2931</th>\n",
       "      <td>120.035734</td>\n",
       "      <td>0</td>\n",
       "      <td>6</td>\n",
       "    </tr>\n",
       "    <tr>\n",
       "      <th>2932</th>\n",
       "      <td>108.068748</td>\n",
       "      <td>0</td>\n",
       "      <td>7</td>\n",
       "    </tr>\n",
       "    <tr>\n",
       "      <th>2933</th>\n",
       "      <td>83.073499</td>\n",
       "      <td>0</td>\n",
       "      <td>5</td>\n",
       "    </tr>\n",
       "  </tbody>\n",
       "</table>\n",
       "<p>2934 rows × 3 columns</p>\n",
       "</div>"
      ],
      "text/plain": [
       "      Molecular Weight  Cycles  Branches\n",
       "0           109.969005       0         4\n",
       "1           162.104465       0        11\n",
       "2           302.297351       0        21\n",
       "3           176.940179       0         8\n",
       "4          1286.853734       0        87\n",
       "...                ...     ...       ...\n",
       "2929        132.952711       0         4\n",
       "2930         91.018877       0         4\n",
       "2931        120.035734       0         6\n",
       "2932        108.068748       0         7\n",
       "2933         83.073499       0         5\n",
       "\n",
       "[2934 rows x 3 columns]"
      ]
     },
     "execution_count": 29,
     "metadata": {},
     "output_type": "execute_result"
    }
   ],
   "source": [
    "df = calculate_metrics(chembl)\n",
    "df"
   ]
  },
  {
   "cell_type": "code",
   "execution_count": 30,
   "id": "89112ec8-4d73-4733-a1ef-0c9113b98e85",
   "metadata": {},
   "outputs": [
    {
     "data": {
      "image/png": "[encoded data removed]",
      "text/plain": [
       "<Figure size 800x600 with 1 Axes>"
      ]
     },
     "metadata": {},
     "output_type": "display_data"
    },
    {
     "data": {
      "text/plain": [
       "True"
      ]
     },
     "execution_count": 30,
     "metadata": {},
     "output_type": "execute_result"
    }
   ],
   "source": [
    "plot_distribution(df,\"Branches\")"
   ]
  },
  {
   "cell_type": "code",
   "execution_count": null,
   "id": "6add220a-1668-4869-86a7-009df3b633f2",
   "metadata": {},
   "outputs": [],
   "source": []
  }
 ],
 "metadata": {
  "kernelspec": {
   "display_name": "Python 3 (ipykernel)",
   "language": "python",
   "name": "python3"
  },
  "language_info": {
   "codemirror_mode": {
    "name": "ipython",
    "version": 3
   },
   "file_extension": ".py",
   "mimetype": "text/x-python",
   "name": "python",
   "nbconvert_exporter": "python",
   "pygments_lexer": "ipython3",
   "version": "3.11.4"
  }
 },
 "nbformat": 4,
 "nbformat_minor": 5
}
