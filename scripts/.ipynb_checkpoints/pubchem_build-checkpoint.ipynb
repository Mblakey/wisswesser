{
 "cells": [
  {
   "cell_type": "code",
   "execution_count": 11,
   "id": "7e8a79f4-c8ae-46bb-9636-5c544d0caafe",
   "metadata": {},
   "outputs": [],
   "source": [
    "import pandas as pd\n",
    "import pubchempy as pcp\n",
    "from pubchempy import get_compounds, Compound\n",
    "\n",
    "def read_file_lines(file_path):\n",
    "    lines = []\n",
    "    try:\n",
    "        with open(file_path, 'r') as file:\n",
    "            for line in file:\n",
    "                lines.append(line.strip())  # Strip removes leading/trailing whitespaces and newline characters\n",
    "    except FileNotFoundError:\n",
    "        print(f\"Error: File '{file_path}' not found.\")\n",
    "    except IOError:\n",
    "        print(f\"Error: Unable to read from file '{file_path}'.\")\n",
    "    return lines"
   ]
  },
  {
   "cell_type": "code",
   "execution_count": 12,
   "id": "8ff4b4ce-1a75-4b40-8260-f804ec82fb2b",
   "metadata": {},
   "outputs": [
    {
     "data": {
      "text/html": [
       "<div>\n",
       "<style scoped>\n",
       "    .dataframe tbody tr th:only-of-type {\n",
       "        vertical-align: middle;\n",
       "    }\n",
       "\n",
       "    .dataframe tbody tr th {\n",
       "        vertical-align: top;\n",
       "    }\n",
       "\n",
       "    .dataframe thead th {\n",
       "        text-align: right;\n",
       "    }\n",
       "</style>\n",
       "<table border=\"1\" class=\"dataframe\">\n",
       "  <thead>\n",
       "    <tr style=\"text-align: right;\">\n",
       "      <th></th>\n",
       "      <th>WLN</th>\n",
       "    </tr>\n",
       "  </thead>\n",
       "  <tbody>\n",
       "    <tr>\n",
       "      <th>0</th>\n",
       "      <td>Z1YQ1</td>\n",
       "    </tr>\n",
       "    <tr>\n",
       "      <th>1</th>\n",
       "      <td>WNR BG ENW</td>\n",
       "    </tr>\n",
       "    <tr>\n",
       "      <th>2</th>\n",
       "      <td>GR BG DG</td>\n",
       "    </tr>\n",
       "    <tr>\n",
       "      <th>3</th>\n",
       "      <td>Q2G</td>\n",
       "    </tr>\n",
       "    <tr>\n",
       "      <th>4</th>\n",
       "      <td>ZR BQ FVQ</td>\n",
       "    </tr>\n",
       "    <tr>\n",
       "      <th>...</th>\n",
       "      <td>...</td>\n",
       "    </tr>\n",
       "    <tr>\n",
       "      <th>6584</th>\n",
       "      <td>L E6 C666 BV FV CU GUTTT&amp;J DQ EQ HQ IN1&amp;1 MQ M...</td>\n",
       "    </tr>\n",
       "    <tr>\n",
       "      <th>6585</th>\n",
       "      <td>T5VOYJ CUYR&amp;VO1 DQ ER</td>\n",
       "    </tr>\n",
       "    <tr>\n",
       "      <th>6586</th>\n",
       "      <td>T5MV EHJ CV1 DO EY2&amp;1 &amp;-NA-</td>\n",
       "    </tr>\n",
       "    <tr>\n",
       "      <th>6587</th>\n",
       "      <td>T66 BOVJ DMVR DQ C2UY1&amp;1&amp; EQ IO- FT6OTJ B1 B1 ...</td>\n",
       "    </tr>\n",
       "    <tr>\n",
       "      <th>6588</th>\n",
       "      <td>L E6 C666 BV FV CU GUTTT&amp;J DQ EQ GVZ HQ IN1&amp;1 ...</td>\n",
       "    </tr>\n",
       "  </tbody>\n",
       "</table>\n",
       "<p>6589 rows × 1 columns</p>\n",
       "</div>"
      ],
      "text/plain": [
       "                                                    WLN\n",
       "0                                                 Z1YQ1\n",
       "1                                            WNR BG ENW\n",
       "2                                              GR BG DG\n",
       "3                                                   Q2G\n",
       "4                                             ZR BQ FVQ\n",
       "...                                                 ...\n",
       "6584  L E6 C666 BV FV CU GUTTT&J DQ EQ HQ IN1&1 MQ M...\n",
       "6585                              T5VOYJ CUYR&VO1 DQ ER\n",
       "6586                        T5MV EHJ CV1 DO EY2&1 &-NA-\n",
       "6587  T66 BOVJ DMVR DQ C2UY1&1& EQ IO- FT6OTJ B1 B1 ...\n",
       "6588  L E6 C666 BV FV CU GUTTT&J DQ EQ GVZ HQ IN1&1 ...\n",
       "\n",
       "[6589 rows x 1 columns]"
      ]
     },
     "execution_count": 12,
     "metadata": {},
     "output_type": "execute_result"
    }
   ],
   "source": [
    "pubchem = pd.DataFrame(read_file_lines(\"../data/pubchem.txt\"),columns=[\"WLN\"])\n",
    "pubchem"
   ]
  },
  {
   "cell_type": "code",
   "execution_count": 22,
   "id": "fe27830e-e066-4639-b309-a09beae9ae36",
   "metadata": {},
   "outputs": [],
   "source": [
    "def pubchem_get_wln(wln):\n",
    "    compounds = pcp.get_compounds(f\"WLN: {wln}\", 'name')\n",
    "    if compounds is not None:\n",
    "        can_smiles = compounds[0].canonical_smiles\n",
    "    else:\n",
    "        can_smiles = \"null\"\n",
    "        \n",
    "    return can_smiles"
   ]
  },
  {
   "cell_type": "code",
   "execution_count": 24,
   "id": "28533423-b43c-4803-91dc-0cb3a91f3380",
   "metadata": {},
   "outputs": [
    {
     "data": {
      "text/plain": [
       "'CC(CN)O'"
      ]
     },
     "execution_count": 24,
     "metadata": {},
     "output_type": "execute_result"
    }
   ],
   "source": [
    "can_smiles"
   ]
  },
  {
   "cell_type": "code",
   "execution_count": null,
   "id": "f845e0a9-b133-4f9e-835a-ffd74709a23a",
   "metadata": {},
   "outputs": [],
   "source": []
  }
 ],
 "metadata": {
  "kernelspec": {
   "display_name": "Python 3 (ipykernel)",
   "language": "python",
   "name": "python3"
  },
  "language_info": {
   "codemirror_mode": {
    "name": "ipython",
    "version": 3
   },
   "file_extension": ".py",
   "mimetype": "text/x-python",
   "name": "python",
   "nbconvert_exporter": "python",
   "pygments_lexer": "ipython3",
   "version": "3.11.4"
  }
 },
 "nbformat": 4,
 "nbformat_minor": 5
}
