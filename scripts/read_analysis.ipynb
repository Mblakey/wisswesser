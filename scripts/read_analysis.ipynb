{
 "cells": [
  {
   "cell_type": "code",
   "execution_count": 15,
   "id": "bf26839e",
   "metadata": {},
   "outputs": [],
   "source": [
    "import pandas as pd\n",
    "import rdkit\n",
    "from rdkit import Chem\n",
    "from rdkit.Chem import Descriptors\n",
    "import seaborn as sns\n",
    "import matplotlib.pyplot as plt"
   ]
  },
  {
   "cell_type": "code",
   "execution_count": 16,
   "id": "2b87c1c5",
   "metadata": {},
   "outputs": [],
   "source": [
    "def read_file_lines(file_path):\n",
    "    lines = []\n",
    "    try:\n",
    "        with open(file_path, 'r') as file:\n",
    "            for line in file:\n",
    "                lines.append(line.strip())  # Strip removes leading/trailing whitespaces and newline characters\n",
    "    except FileNotFoundError:\n",
    "        print(f\"Error: File '{file_path}' not found.\")\n",
    "    except IOError:\n",
    "        print(f\"Error: Unable to read from file '{file_path}'.\")\n",
    "    return lines\n",
    "\n",
    "\n",
    "def count_compounds_with_cycles(dataframe):\n",
    "    \"\"\"\n",
    "    Counts the number of compounds in a pandas DataFrame that contain at least one cycle.\n",
    "\n",
    "    Parameters:\n",
    "        dataframe (pandas.DataFrame): DataFrame containing 'SMILES' column with SMILES strings.\n",
    "\n",
    "    Returns:\n",
    "        int: Total number of compounds containing at least one cycle.\n",
    "    \"\"\"\n",
    "    num_compounds_with_cycles = 0\n",
    "\n",
    "    for smile in dataframe['SMILES']:\n",
    "        mol = Chem.MolFromSmiles(smile)\n",
    "\n",
    "        # Check if the molecule contains any cycles\n",
    "        if mol and mol.GetRingInfo().NumRings() > 0:\n",
    "            num_compounds_with_cycles += 1\n",
    "\n",
    "    return num_compounds_with_cycles\n"
   ]
  },
  {
   "cell_type": "code",
   "execution_count": 17,
   "id": "099a5c27",
   "metadata": {},
   "outputs": [
    {
     "name": "stdout",
     "output_type": "stream",
     "text": [
      "2935 compounds in chembl\n",
      "6589 compounds in pubchem\n",
      "15942 compounds in chemspider\n",
      "422 compounds in encoding book\n",
      "\n",
      "25888 total compounds\n"
     ]
    }
   ],
   "source": [
    "chembl_path = \"../data/chembl_wln_only.txt\"\n",
    "pubchem_path = \"../data/pubchem_wln_only.txt\"\n",
    "chemspider_path = \"../data/chemspider_wln_only.txt\"\n",
    "book_path = \"../data/smith_wln_only.txt\"\n",
    "\n",
    "\n",
    "chembl = pd.DataFrame(read_file_lines(chembl_path),columns=[\"WLN\"])\n",
    "pubchem = pd.DataFrame(read_file_lines(pubchem_path),columns=[\"WLN\"])\n",
    "chemspider = pd.DataFrame(read_file_lines(chemspider_path),columns=[\"WLN\"])\n",
    "book = pd.DataFrame(read_file_lines(book_path),columns=[\"WLN\"])\n",
    "\n",
    "print(f\"{len(chembl)} compounds in chembl\")\n",
    "print(f\"{len(pubchem)} compounds in pubchem\")\n",
    "print(f\"{len(chemspider)} compounds in chemspider\")\n",
    "print(f\"{len(book)} compounds in encoding book\")\n",
    "\n",
    "print()\n",
    "pre_total = len(chembl) + len(chemspider) + len(pubchem) + len(book)\n",
    "print(f\"{pre_total} total compounds\")"
   ]
  },
  {
   "cell_type": "code",
   "execution_count": 18,
   "id": "e23c83e4",
   "metadata": {},
   "outputs": [
    {
     "data": {
      "image/png": "[encoded data removed]",
      "text/plain": [
       "<Figure size 800x600 with 1 Axes>"
      ]
     },
     "metadata": {},
     "output_type": "display_data"
    }
   ],
   "source": [
    "import pandas as pd\n",
    "import seaborn as sns\n",
    "import matplotlib.pyplot as plt\n",
    "from rdkit import Chem\n",
    "\n",
    "def plot_molecular_weight_distribution(df, smiles_column_name):\n",
    "    # Step 1: Calculate molecular weights using RDKit\n",
    "    molecular_weights = []\n",
    "    for smiles in df[smiles_column_name]:\n",
    "        mol = Chem.MolFromSmiles(smiles)\n",
    "        if mol:\n",
    "            molecular_weight = rdkit.Chem.Descriptors.ExactMolWt(mol)\n",
    "            molecular_weights.append(molecular_weight)\n",
    "\n",
    "    # Step 2: Create a dataframe with the molecular weights\n",
    "    weight_df = pd.DataFrame({\"Molecular Weight\": molecular_weights})\n",
    "\n",
    "    # Step 3: Plot the molecular weight distribution using seaborn\n",
    "    plt.figure(figsize=(8, 6))\n",
    "    sns.histplot(data=weight_df, x=\"Molecular Weight\", kde=True, bins=30, color=\"skyblue\")\n",
    "    plt.xlabel(\"Molecular Weight\")\n",
    "    plt.ylabel(\"Frequency\")\n",
    "    plt.title(\"Molecular Weight Distribution\")\n",
    "    plt.show()\n",
    "\n",
    "\n",
    "plot_molecular_weight_distribution(df, \"SMILES\")\n"
   ]
  },
  {
   "cell_type": "code",
   "execution_count": null,
   "id": "1d6157b0",
   "metadata": {},
   "outputs": [],
   "source": []
  }
 ],
 "metadata": {
  "kernelspec": {
   "display_name": "Python 3 (ipykernel)",
   "language": "python",
   "name": "python3"
  },
  "language_info": {
   "codemirror_mode": {
    "name": "ipython",
    "version": 3
   },
   "file_extension": ".py",
   "mimetype": "text/x-python",
   "name": "python",
   "nbconvert_exporter": "python",
   "pygments_lexer": "ipython3",
   "version": "3.11.4"
  }
 },
 "nbformat": 4,
 "nbformat_minor": 5
}
