{
 "cells": [
  {
   "cell_type": "code",
   "execution_count": 81,
   "id": "bf26839e",
   "metadata": {},
   "outputs": [],
   "source": [
    "import pandas as pd\n",
    "from rdkit import Chem"
   ]
  },
  {
   "cell_type": "code",
   "execution_count": 82,
   "id": "2b87c1c5",
   "metadata": {},
   "outputs": [],
   "source": [
    "def read_file_lines(file_path):\n",
    "    lines = []\n",
    "    try:\n",
    "        with open(file_path, 'r') as file:\n",
    "            for line in file:\n",
    "                lines.append(line.strip())  # Strip removes leading/trailing whitespaces and newline characters\n",
    "    except FileNotFoundError:\n",
    "        print(f\"Error: File '{file_path}' not found.\")\n",
    "    except IOError:\n",
    "        print(f\"Error: Unable to read from file '{file_path}'.\")\n",
    "    return lines\n",
    "\n",
    "\n",
    "def count_compounds_with_cycles(dataframe):\n",
    "    \"\"\"\n",
    "    Counts the number of compounds in a pandas DataFrame that contain at least one cycle.\n",
    "\n",
    "    Parameters:\n",
    "        dataframe (pandas.DataFrame): DataFrame containing 'SMILES' column with SMILES strings.\n",
    "\n",
    "    Returns:\n",
    "        int: Total number of compounds containing at least one cycle.\n",
    "    \"\"\"\n",
    "    num_compounds_with_cycles = 0\n",
    "\n",
    "    for smile in dataframe['SMILES']:\n",
    "        mol = Chem.MolFromSmiles(smile)\n",
    "\n",
    "        # Check if the molecule contains any cycles\n",
    "        if mol and mol.GetRingInfo().NumRings() > 0:\n",
    "            num_compounds_with_cycles += 1\n",
    "\n",
    "    return num_compounds_with_cycles\n"
   ]
  },
  {
   "cell_type": "code",
   "execution_count": 83,
   "id": "099a5c27",
   "metadata": {},
   "outputs": [
    {
     "name": "stdout",
     "output_type": "stream",
     "text": [
      "2935 compounds in chembl\n",
      "6589 compounds in pubchem\n",
      "15942 compounds in chemspider\n",
      "422 compounds in encoding book\n",
      "\n",
      "25888 total compounds\n"
     ]
    }
   ],
   "source": [
    "chembl_path = \"../data/chembl_wln_only.txt\"\n",
    "pubchem_path = \"../data/pubchem_wln_only.txt\"\n",
    "chemspider_path = \"../data/chemspider_wln_only.txt\"\n",
    "book_path = \"../data/smith_wln_only.txt\"\n",
    "\n",
    "\n",
    "chembl = pd.DataFrame(read_file_lines(chembl_path),columns=[\"WLN\"])\n",
    "pubchem = pd.DataFrame(read_file_lines(pubchem_path),columns=[\"WLN\"])\n",
    "chemspider = pd.DataFrame(read_file_lines(chemspider_path),columns=[\"WLN\"])\n",
    "book = pd.DataFrame(read_file_lines(book_path),columns=[\"WLN\"])\n",
    "\n",
    "print(f\"{len(chembl)} compounds in chembl\")\n",
    "print(f\"{len(pubchem)} compounds in pubchem\")\n",
    "print(f\"{len(chemspider)} compounds in chemspider\")\n",
    "print(f\"{len(book)} compounds in encoding book\")\n",
    "\n",
    "print()\n",
    "pre_total = len(chembl) + len(chemspider) + len(pubchem) + len(book)\n",
    "print(f\"{pre_total} total compounds\")"
   ]
  },
  {
   "cell_type": "code",
   "execution_count": null,
   "id": "e23c83e4",
   "metadata": {},
   "outputs": [],
   "source": []
  }
 ],
 "metadata": {
  "kernelspec": {
   "display_name": "Python 3 (ipykernel)",
   "language": "python",
   "name": "python3"
  },
  "language_info": {
   "codemirror_mode": {
    "name": "ipython",
    "version": 3
   },
   "file_extension": ".py",
   "mimetype": "text/x-python",
   "name": "python",
   "nbconvert_exporter": "python",
   "pygments_lexer": "ipython3",
   "version": "3.10.9"
  }
 },
 "nbformat": 4,
 "nbformat_minor": 5
}
