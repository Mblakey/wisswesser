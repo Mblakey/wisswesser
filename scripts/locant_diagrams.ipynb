{
 "cells": [
  {
   "cell_type": "code",
   "execution_count": 64,
   "id": "b2f979d6",
   "metadata": {},
   "outputs": [],
   "source": [
    "from rdkit import Chem\n",
    "from rdkit.Chem import Draw\n",
    "from rdkit.Chem.Draw import rdMolDraw2D\n",
    "import os\n",
    "\n",
    "\n",
    "\n",
    "def add_locant_labels(mol):\n",
    "    for i, atom in enumerate(mol.GetAtoms()):\n",
    "        atom.SetProp(\"atomLabel\", str(chr(ord('A') + i)))\n",
    "    return mol\n",
    "\n",
    "def bond_via_locant(loc_1,loc_2,mol):\n",
    "    atom_1 = 0\n",
    "    atom_2 = 0\n",
    "    for i, atom in enumerate(mol.GetAtoms()):\n",
    "        label = atom.GetProp('atomLabel')\n",
    "        if(loc_1 == label):\n",
    "            atom_1 = atom\n",
    "        elif(loc_2 == label):\n",
    "            atom_2 = atom\n",
    "            \n",
    "    if(atom_1 == 0 or atom_2 == 0):\n",
    "        print(\"Error: one or more atoms is not set\")\n",
    "        return False\n",
    "    \n",
    "    edit = Chem.EditableMol(mol)\n",
    "    edit.AddBond(atom_1.GetIdx(),atom_2.GetIdx(),Chem.rdchem.BondType.SINGLE)\n",
    "    \n",
    "    return edit.GetMol()\n",
    "\n",
    "\n",
    "def add_branch_locant(branch_locant,locant,mol):\n",
    "    atom_1 = 0\n",
    "    for i, atom in enumerate(mol.GetAtoms()):\n",
    "        label = atom.GetProp('atomLabel')\n",
    "        if(locant == label):\n",
    "            atom_1 = atom\n",
    "    \n",
    "    if(atom_1 == 0):\n",
    "        print(\"Error: one or more atoms is not set\")\n",
    "        return False\n",
    "    \n",
    "    \n",
    "    edit = Chem.EditableMol(mol)\n",
    "    new_idx = edit.AddAtom(Chem.Atom(6))\n",
    "    edit.AddBond(new_idx,atom_1.GetIdx(),Chem.rdchem.BondType.SINGLE)\n",
    "    \n",
    "    mol = edit.GetMol()\n",
    "    atom1 = mol.GetAtomWithIdx(new_idx)\n",
    "    atom1.SetProp(\"atomLabel\", branch_locant)\n",
    "    return  mol\n",
    "\n",
    "def save_mol_to_svg(mol, filename):\n",
    "    drawer = rdMolDraw2D.MolDraw2DSVG(400, 400)  # Specify the drawing size\n",
    "\n",
    "    # Customize the drawing options if needed\n",
    "    opts = drawer.drawOptions()\n",
    "    opts.atomLabelFontFace = 'Arial'\n",
    "    opts.atomLabelFontSize = 12\n",
    "\n",
    "    drawer.DrawMolecule(mol)\n",
    "    drawer.FinishDrawing()\n",
    "\n",
    "    svg = drawer.GetDrawingText()\n",
    "    \n",
    "    base_filename, extension = os.path.splitext(filename)\n",
    "    new_filename = filename\n",
    "    counter = 1\n",
    "\n",
    "    while os.path.exists(new_filename):\n",
    "        new_filename = f\"{base_filename}_{counter}{extension}\"\n",
    "        counter += 1\n",
    "\n",
    "    with open(new_filename, 'w') as file:\n",
    "        file.write(svg)\n",
    "\n",
    "    print(\"File saved as:\", new_filename)"
   ]
  },
  {
   "cell_type": "code",
   "execution_count": 84,
   "id": "43f4323d",
   "metadata": {},
   "outputs": [
    {
     "data": {
      "image/png": "[encoded data removed]",
      "text/plain": [
       "<rdkit.Chem.rdchem.Mol at 0x7ff9ef141850>"
      ]
     },
     "execution_count": 84,
     "metadata": {},
     "output_type": "execute_result"
    }
   ],
   "source": [
    "mol = Chem.MolFromSmiles(\"CCCCCCCCCCCCCCCCCCCCCCC\")\n",
    "add_locant_labels(mol)\n",
    "\n",
    "mol = add_branch_locant('E-','E',mol)\n",
    "mol = bond_via_locant('E-', 'I',mol)\n",
    "mol = bond_via_locant('E-', 'M',mol)\n",
    "mol = bond_via_locant('D','N',mol)\n",
    "mol = bond_via_locant('O','C',mol)\n",
    "mol = bond_via_locant('A','P',mol)\n",
    "mol = bond_via_locant('A','T',mol)\n",
    "mol = bond_via_locant('B','W',mol)\n",
    "mol"
   ]
  },
  {
   "cell_type": "code",
   "execution_count": 85,
   "id": "c3977674",
   "metadata": {},
   "outputs": [
    {
     "name": "stdout",
     "output_type": "stream",
     "text": [
      "File saved as: branched_7.svg\n"
     ]
    }
   ],
   "source": [
    "if(mol):\n",
    "    save_mol_to_svg(mol,\"branched.svg\")"
   ]
  },
  {
   "cell_type": "code",
   "execution_count": null,
   "id": "1ee7a6b7",
   "metadata": {},
   "outputs": [],
   "source": []
  }
 ],
 "metadata": {
  "kernelspec": {
   "display_name": "Python 3 (ipykernel)",
   "language": "python",
   "name": "python3"
  },
  "language_info": {
   "codemirror_mode": {
    "name": "ipython",
    "version": 3
   },
   "file_extension": ".py",
   "mimetype": "text/x-python",
   "name": "python",
   "nbconvert_exporter": "python",
   "pygments_lexer": "ipython3",
   "version": "3.11.4"
  }
 },
 "nbformat": 4,
 "nbformat_minor": 5
}
