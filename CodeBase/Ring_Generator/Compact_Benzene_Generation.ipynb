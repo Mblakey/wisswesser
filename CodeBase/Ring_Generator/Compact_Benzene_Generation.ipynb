{
 "cells": [
  {
   "cell_type": "code",
   "execution_count": 1,
   "id": "78ba36c0",
   "metadata": {},
   "outputs": [],
   "source": [
    "import os\n",
    "import sys\n",
    "import pandas as pd\n",
    "import rdkit\n",
    "from rdkit import Chem, DataStructs\n",
    "from rdkit.Chem import AllChem\n",
    "from rdkit.Chem import rdchem\n",
    "from rdkit.Chem import Draw\n",
    "from rdkit.Chem.Draw import IPythonConsole\n",
    "from rdkit.Chem.Draw import MolDrawing, DrawingOptions\n",
    "import itertools\n",
    "from itertools import combinations\n",
    "from tqdm.notebook import tqdm\n",
    "import random\n",
    "from openbabel import pybel\n",
    "\n",
    "from Rdkit_WLN_Ring_Scipt import show_atom_number\n",
    "\n",
    "from rdkit import RDLogger                                                                                                                                                               \n",
    "RDLogger.DisableLog('rdApp.*')"
   ]
  },
  {
   "cell_type": "code",
   "execution_count": 2,
   "id": "dc00a978",
   "metadata": {},
   "outputs": [],
   "source": [
    "STDOUT = 1\n",
    "STDERR = 2\n",
    "class FDRedirector(object):\n",
    "    def __init__(self, fd=STDOUT):\n",
    "        self.fd = fd\n",
    "        self.started = False\n",
    "        self.piper = None\n",
    "        self.pipew = None\n",
    "    def start(self):\n",
    "        if not self.started:\n",
    "            self.oldhandle = os.dup(self.fd)\n",
    "            self.piper, self.pipew = os.pipe()\n",
    "            os.dup2(self.pipew, self.fd)\n",
    "            os.close(self.pipew)\n",
    "\n",
    "            self.started = True\n",
    "    def flush(self):\n",
    "        if self.fd == STDOUT:\n",
    "            sys.stdout.flush()\n",
    "        elif self.fd == STDERR:\n",
    "            sys.stderr.flush()\n",
    "    def stop(self):\n",
    "        if self.started:\n",
    "            self.flush()\n",
    "            os.dup2(self.oldhandle, self.fd)\n",
    "            os.close(self.oldhandle)\n",
    "            f = os.fdopen(self.piper, 'r')\n",
    "            output = f.read()\n",
    "            f.close()\n",
    "\n",
    "            self.started = False\n",
    "            return output\n",
    "        else:\n",
    "            return ''\n",
    "    def getvalue(self):\n",
    "        output = self.stop()\n",
    "        self.start()\n",
    "        return output\n",
    "redirect = FDRedirector(STDERR)"
   ]
  },
  {
   "cell_type": "code",
   "execution_count": 3,
   "id": "caa51e54",
   "metadata": {},
   "outputs": [],
   "source": [
    "def check_wln_validity(wln):\n",
    "    redirect.start();\n",
    "    mymol = pybel.readstring(\"wln\", wln)\n",
    "    smi = mymol.write(\"smi\")[:-2]\n",
    "    \n",
    "    captured_stderr = redirect.stop()\n",
    "    if len(captured_stderr)==0:\n",
    "        return wln, smi\n",
    "    else:\n",
    "        return wln, 'wrong'"
   ]
  },
  {
   "cell_type": "markdown",
   "id": "807e3b73",
   "metadata": {},
   "source": [
    "### Custom Iterator for Compact Benzene Notion, Rest is using the normal iterator "
   ]
  },
  {
   "cell_type": "code",
   "execution_count": 4,
   "id": "ba48ed13",
   "metadata": {},
   "outputs": [
    {
     "data": {
      "image/png": "[encoded data removed]",
      "text/plain": [
       "<rdkit.Chem.rdchem.Mol at 0x1377cfd60>"
      ]
     },
     "execution_count": 4,
     "metadata": {},
     "output_type": "execute_result"
    }
   ],
   "source": [
    "WLN = 'RH'\n",
    "mymol = pybel.readstring(\"wln\", WLN)\n",
    "smi = mymol.write(\"smi\")[:-2]\n",
    "mol = Chem.MolFromSmiles(smi)\n",
    "cleaned_smiles = Chem.MolToSmiles(mol)\n",
    "Base_mol = Chem.MolFromSmiles(cleaned_smiles) # this clean step is essential\n",
    "show, _ = show_atom_number(Base_mol, 'atomLabel')\n",
    "show"
   ]
  },
  {
   "cell_type": "code",
   "execution_count": 5,
   "id": "cc090aef",
   "metadata": {},
   "outputs": [
    {
     "name": "stdout",
     "output_type": "stream",
     "text": [
      "Indexes 0 to 5 to chose from on the Ring\n",
      "Bonding group head at atomic position 6\n",
      "64 Possible Combinations Found\n"
     ]
    }
   ],
   "source": [
    "WLN_positions = {'A':0,'B':1,'C':2,'D':3,'E':4, 'F':5}\n",
    "\n",
    "print(f'Indexes 0 to {len(WLN_positions)-1} to chose from on the Ring')\n",
    "print(f'Bonding group head at atomic position {len(WLN_positions)}')\n",
    "\n",
    "atom_assignments = [i for i in range(len(WLN_positions))]\n",
    "\n",
    "pos_combinations = sum([list(map(list, combinations(atom_assignments, i))) for i in range(len(atom_assignments) + 1)], [])\n",
    "print(f'{len(pos_combinations)} Possible Combinations Found')\n",
    "pos_combinations = pos_combinations[1:]"
   ]
  },
  {
   "cell_type": "code",
   "execution_count": 6,
   "id": "9e4c42cc",
   "metadata": {},
   "outputs": [
    {
     "name": "stdout",
     "output_type": "stream",
     "text": [
      "       WLN  SMILES\n",
      "135528   E   [Br-]\n",
      "135529   Q   [OH-]\n",
      "135531   Z  [NH2-]\n",
      "          WLN        SMILES\n",
      "159866  QPNG&      OP[N-]Cl\n",
      "159867  GBNEP  Cl[B-]N(Br)P\n",
      "159888  QPPZF       OPP(N)F\n"
     ]
    }
   ],
   "source": [
    "# Small Fragments\n",
    "\n",
    "def pruner(dataframe):\n",
    "    columns = ['WLN', 'SMILES']\n",
    "    for i in dataframe:\n",
    "        if i not in columns:\n",
    "            dataframe = dataframe.drop(columns=i)\n",
    "    return dataframe\n",
    "\n",
    "PATH = '/Users/michaelblakey/Documents/The_Frey_Group/WLN_Project/Code/AutoEncoder/core/data/'\n",
    "\n",
    "Big_data = pd.read_csv(PATH +'full-reaugment_1.txt', delimiter='\\t')\n",
    "\n",
    "TYPE = 'Non-Carbon'\n",
    "Fragments = Big_data[Big_data.Labels.str.contains(TYPE)==True]\n",
    "\n",
    "Fragments = pruner(Fragments[:1000])\n",
    "print(Fragments.head(3))\n",
    "print(Fragments.tail(3))"
   ]
  },
  {
   "cell_type": "code",
   "execution_count": 7,
   "id": "d2009db6",
   "metadata": {},
   "outputs": [
    {
     "data": {
      "application/vnd.jupyter.widget-view+json": {
       "model_id": "4457a836c9544c9f9dfeb953a628f2c9",
       "version_major": 2,
       "version_minor": 0
      },
      "text/plain": [
       "  0%|          | 0/63 [00:00<?, ?it/s]"
      ]
     },
     "metadata": {},
     "output_type": "display_data"
    },
    {
     "data": {
      "application/vnd.jupyter.widget-view+json": {
       "model_id": "e774905f48b741a5bf6370655e26f7f0",
       "version_major": 2,
       "version_minor": 0
      },
      "text/plain": [
       "  0%|          | 0/630000 [00:00<?, ?it/s]"
      ]
     },
     "metadata": {},
     "output_type": "display_data"
    }
   ],
   "source": [
    "iterations = 10000\n",
    "\n",
    "candidates = []\n",
    "for comb in tqdm(pos_combinations):\n",
    "    for i in range(iterations):\n",
    "        wln_positions = [list(WLN_positions.keys())[list(WLN_positions.values()).index(i)] for i in comb]\n",
    "        num_fragments = len(wln_positions)\n",
    "        wln_frags = []\n",
    "        for i in range(num_fragments):\n",
    "            Random_Frag = Fragments.sample(1, random_state = None)\n",
    "            wln_frag = Random_Frag['WLN'].item()\n",
    "            wln_frags.append(wln_frag)\n",
    "        build_list = []   \n",
    "        for i in range(num_fragments):\n",
    "            built = wln_positions[i] + wln_frags[i]\n",
    "            build_list.append(built)\n",
    "            \n",
    "        new_wln = [WLN] + build_list\n",
    "        compact = ' '.join(new_wln)\n",
    "        candidates.append(compact)\n",
    "\n",
    "SEND_WLN = []\n",
    "SEND_SMI = []\n",
    "for wln in tqdm(candidates):\n",
    "    wln, smiles = check_wln_validity(wln)\n",
    "    SEND_WLN.append(wln)\n",
    "    SEND_SMI.append(smiles)\n",
    "    \n",
    "Working = pd.DataFrame()\n",
    "Working['SMILES'] = SEND_SMI\n",
    "Working['WLN'] = SEND_WLN"
   ]
  },
  {
   "cell_type": "code",
   "execution_count": 9,
   "id": "6c6fce73",
   "metadata": {},
   "outputs": [
    {
     "data": {
      "application/vnd.jupyter.widget-view+json": {
       "model_id": "3e1900d1b7264fa895c0826e0c083616",
       "version_major": 2,
       "version_minor": 0
      },
      "text/plain": [
       "  0%|          | 0/153292 [00:00<?, ?it/s]"
      ]
     },
     "metadata": {},
     "output_type": "display_data"
    },
    {
     "name": "stdout",
     "output_type": "stream",
     "text": [
      "132909 New WLN Ring Strings for Database\n",
      "476708 New Wrong Examples Stored for Classifier\n"
     ]
    }
   ],
   "source": [
    "Wrong = Working[Working['SMILES']=='wrong']\n",
    "Correct = Working[Working['SMILES']!='wrong']\n",
    "\n",
    "\n",
    "Correct = Correct.reset_index()\n",
    "keys = []\n",
    "for smi in tqdm(Correct['SMILES']):\n",
    "    mymol = pybel.readstring(\"smi\", smi)\n",
    "    key = mymol.write(\"inchikey\")[:-1]\n",
    "    keys.append(key)\n",
    "    \n",
    "Correct['KEYS'] = keys\n",
    "dup_index = []\n",
    "for index, i in enumerate(Correct['KEYS'].duplicated()):\n",
    "    if i ==True:\n",
    "        dup_index.append(index)\n",
    "        \n",
    "Correct = Correct.drop(index = dup_index)\n",
    "Correct = Correct.reset_index()\n",
    "print(f\"{len(Correct)} New WLN Ring Strings for Database\")\n",
    "print(f\"{len(Wrong)} New Wrong Examples Stored for Classifier\")"
   ]
  },
  {
   "cell_type": "code",
   "execution_count": 52,
   "id": "f90cdc2d",
   "metadata": {},
   "outputs": [],
   "source": [
    "from IPython.display import clear_output\n",
    "from collections import OrderedDict\n",
    "\n",
    "alphabets = 'abcdefghijklmnopqrstuvwxyz&'.upper()\n",
    "indexes = [i for i in range(len(alphabets))]\n",
    "positioning_dict = OrderedDict(zip(alphabets, indexes))\n",
    "\n",
    "\n",
    "def letter_index(lettered_group, positioning_dict):\n",
    "    index = positioning_dict[lettered_group[0]]\n",
    "    return index\n",
    "\n",
    "\n",
    "def reorder_groups(groups):\n",
    "    letter_order = []\n",
    "    for i in groups:\n",
    "        index = positioning_dict[i[0]]\n",
    "        letter_order.append(index)\n",
    "    trial = list(zip(groups, letter_order))\n",
    "    trial.sort(key=lambda tup: tup[1])\n",
    "    reordered_groups = [i[0] for i in trial]\n",
    "\n",
    "    return reordered_groups\n",
    "\n",
    "\n",
    "def Simplify(group_list, positioning_dict, alphabets):\n",
    "    groups = []\n",
    "    indexes = []\n",
    "    for i in group_list:\n",
    "        index = letter_index(i, positioning_dict)\n",
    "        indexes.append(index)\n",
    "    anchor = indexes[0]\n",
    "\n",
    "    new_indexes = [i - anchor for i in indexes]\n",
    "    new_letters = [alphabets[i] for i in new_indexes]\n",
    "    naked = [i[1:] for i in group_list]\n",
    "\n",
    "    compact = [new_letters[i] + naked[i] for i in range(len(new_letters))]\n",
    "    compact[0] = 'R' + compact[0][1:]\n",
    "    compact = \" \".join(compact)\n",
    "    return compact\n",
    "\n",
    "def Iterator(og):\n",
    "    split_list = og.split(' ')\n",
    "    reordered = reorder_groups(split_list[1:])\n",
    "\n",
    "    if not reordered:\n",
    "        new_wln = 'RH'\n",
    "        return new_wln\n",
    "\n",
    "    for a in range(len(reordered)):\n",
    "        if len(reordered[a]) == 1:\n",
    "            reordered[a] = reordered[a] + '1'\n",
    "\n",
    "    if len(reordered) > 1:\n",
    "        new_wln = Simplify(reordered, positioning_dict, alphabets)\n",
    "        return new_wln\n",
    "\n",
    "    else:\n",
    "        new_wln = 'R' + reordered[0][1:]\n",
    "        return new_wln"
   ]
  },
  {
   "cell_type": "code",
   "execution_count": 53,
   "id": "3a58334a",
   "metadata": {},
   "outputs": [
    {
     "name": "stdout",
     "output_type": "stream",
     "text": [
      "132908\n",
      "132115\n"
     ]
    }
   ],
   "source": [
    "pybel.ob.obErrorLog.SetOutputLevel(0)\n",
    "\n",
    "new_data = []\n",
    "compacter = 0\n",
    "for Index, row in Correct.iterrows():\n",
    "    clear_output(wait=True)\n",
    "    print(Index)\n",
    "    before = row['WLN']\n",
    "    wln = Iterator(before)\n",
    "    \n",
    "    testing = pybel.readstring(\"wln\", wln) \n",
    "    original = pybel.readstring(\"wln\", before) \n",
    "    \n",
    "    a = testing.write(\"inchikey\")\n",
    "    b = original.write(\"inchikey\")\n",
    "    if a != b:\n",
    "        split_list = before.split(' ')\n",
    "        reordered = reorder_groups(split_list)\n",
    "        compact = ['RH'] + split_list\n",
    "        wln = \" \".join(compact)\n",
    "        \n",
    "        testing = pybel.readstring(\"wln\", wln) \n",
    "        original = pybel.readstring(\"wln\", before ) \n",
    "        \n",
    "        a = testing.write(\"inchikey\")\n",
    "        b = original.write(\"inchikey\")\n",
    "        if a == b:\n",
    "            new_data.append(wln)\n",
    "            compacter +=1\n",
    "        if a != b:\n",
    "            new_data.append(before)\n",
    "    else:\n",
    "        new_data.append(wln)  \n",
    "        compacter +=1\n",
    "        \n",
    "Correct['COMPACTED'] = new_data\n",
    "print(compacter)"
   ]
  },
  {
   "cell_type": "code",
   "execution_count": 54,
   "id": "d7d7fb59",
   "metadata": {},
   "outputs": [],
   "source": [
    "folder = 'Generated_Data'\n",
    "Working = Correct[['COMPACTED', 'SMILES']]\n",
    "Working = Working.rename(columns={'COMPACTED':'WLN'})\n",
    "Working.to_csv(folder+'/Single_Ring_CompactNotation_3.txt', sep='\\t')"
   ]
  },
  {
   "cell_type": "markdown",
   "id": "870250e6",
   "metadata": {},
   "source": [
    "## Compact Rings on Rings Fragment Preperation"
   ]
  },
  {
   "cell_type": "markdown",
   "id": "181b29b6",
   "metadata": {},
   "source": [
    "For attachment to another ring, we need full ring notation as created in Correct\n",
    "RH causes errors \n",
    "\n",
    "All fragments must be ended with a string ender character '&'"
   ]
  },
  {
   "cell_type": "code",
   "execution_count": null,
   "id": "bd472485",
   "metadata": {},
   "outputs": [],
   "source": [
    "PATH = '/Users/michaelblakey/Documents/The_Frey_Group/WLN_Project/Code/AutoEncoder/core/data/'\n",
    "\n",
    "Big_data = pd.read_csv(PATH +'full-reaugment_1.txt', delimiter='\\t')\n",
    "\n",
    "TYPE = ''\n",
    "Fragments = Big_data[Big_data.Labels.str.contains(TYPE)==True]\n",
    "Fragments = Fragments[Fragments.SMILES.str.contains(r'[.]')==False]\n",
    "\n",
    "Fragments = pruner(Fragments[:1000])\n",
    "print(Fragments.head(3))\n",
    "print(Fragments.tail(3))"
   ]
  },
  {
   "cell_type": "code",
   "execution_count": null,
   "id": "829b1dff",
   "metadata": {},
   "outputs": [],
   "source": [
    "fragments = []\n",
    "for i in Fragments['WLN']:\n",
    "    fragment = i + '&'\n",
    "    fragments.append(fragment)\n",
    "    \n",
    "Fragments['Frags'] = fragments"
   ]
  },
  {
   "cell_type": "code",
   "execution_count": null,
   "id": "9f01eb34",
   "metadata": {},
   "outputs": [],
   "source": [
    "Fragments['Frags']"
   ]
  },
  {
   "cell_type": "code",
   "execution_count": null,
   "id": "8006ff69",
   "metadata": {},
   "outputs": [],
   "source": [
    "WLN_positions = {'B':1,'C':2,'D':3,'E':4, 'F':5}\n",
    "\n",
    "print(f'Indexes 0 to {len(WLN_positions)-1} to chose from on the Ring')\n",
    "print(f'Bonding group head at atomic position {len(WLN_positions)}')\n",
    "\n",
    "atom_assignments = [i+1 for i in range(len(WLN_positions))]\n",
    "\n",
    "pos_combinations = sum([list(map(list, combinations(atom_assignments, i))) for i in range(len(atom_assignments) + 1)], [])\n",
    "print(f'{len(pos_combinations)} Possible Combinations Found')\n",
    "pos_combinations = pos_combinations[1:]"
   ]
  },
  {
   "cell_type": "code",
   "execution_count": null,
   "id": "90d6127e",
   "metadata": {},
   "outputs": [],
   "source": [
    "iterations = 10000\n",
    "\n",
    "candidates = []\n",
    "for comb in tqdm(pos_combinations):\n",
    "    for i in range(iterations):\n",
    "        WLN = Fragments['Frags'].sample(1, random_state = None).item()\n",
    "        wln_positions = [list(WLN_positions.keys())[list(WLN_positions.values()).index(i)] for i in comb]\n",
    "        num_fragments = len(wln_positions)\n",
    "        wln_frags = []\n",
    "        for i in range(num_fragments):\n",
    "            wln_frag = random.choice([Fragments['WLN'].sample(1, random_state = None).item(),\n",
    "                                         Fragments['Frags'].sample(1, random_state = None).item()]) \n",
    "            wln_frags.append(wln_frag)\n",
    "        build_list = []   \n",
    "        for i in range(num_fragments):\n",
    "            built = wln_positions[i] + wln_frags[i]\n",
    "            build_list.append(built)\n",
    "            \n",
    "        new_wln = [WLN] + build_list\n",
    "        compact = ' '.join(new_wln)\n",
    "        candidates.append(compact)\n",
    "\n",
    "SEND_WLN = []\n",
    "SEND_SMI = []\n",
    "print('Validity Checking...')\n",
    "for wln in tqdm(candidates):\n",
    "    wln, smiles = check_wln_validity(wln)\n",
    "    SEND_WLN.append(wln)\n",
    "    SEND_SMI.append(smiles)\n",
    "    \n",
    "Experimental = pd.DataFrame()\n",
    "Experimental['SMILES'] = SEND_SMI\n",
    "Experimental['WLN'] = SEND_WLN\n",
    "Experimental"
   ]
  },
  {
   "cell_type": "code",
   "execution_count": null,
   "id": "f25b089f",
   "metadata": {},
   "outputs": [],
   "source": [
    "pybel.ob.obErrorLog.SetOutputLevel(0)\n",
    "\n",
    "Wrong = Experimental[Experimental['SMILES']=='wrong']\n",
    "Correct = Experimental[Experimental['SMILES']!='wrong']\n",
    "Correct = Correct.reset_index()\n",
    "keys = []\n",
    "for smi in tqdm(Correct['SMILES']):\n",
    "    mymol = pybel.readstring(\"smi\", smi)\n",
    "    key = mymol.write(\"inchikey\")[:-1]\n",
    "    keys.append(key)\n",
    "    \n",
    "Correct['KEYS'] = keys\n",
    "dup_index = []\n",
    "for index, i in enumerate(Correct['KEYS'].duplicated()):\n",
    "    if i ==True:\n",
    "        dup_index.append(index)\n",
    "        \n",
    "Correct = Correct.drop(index = dup_index)\n",
    "print(f\"{len(Correct)} New WLN Ring Strings for Database\")\n",
    "print(f\"{len(Wrong)} New Wrong Examples Stored for Classifier\")"
   ]
  },
  {
   "cell_type": "code",
   "execution_count": null,
   "id": "66b27b17",
   "metadata": {},
   "outputs": [],
   "source": [
    "folder = 'Generated_Data'\n",
    "Working = Correct[['WLN','SMILES']]\n",
    "Working.to_csv(folder+'/Stage2_Multi_Ring_CompactNotation_3.txt', sep='\\t')"
   ]
  },
  {
   "cell_type": "code",
   "execution_count": null,
   "id": "c1cd164a",
   "metadata": {},
   "outputs": [],
   "source": []
  }
 ],
 "metadata": {
  "kernelspec": {
   "display_name": "Python 3 (ipykernel)",
   "language": "python",
   "name": "python3"
  },
  "language_info": {
   "codemirror_mode": {
    "name": "ipython",
    "version": 3
   },
   "file_extension": ".py",
   "mimetype": "text/x-python",
   "name": "python",
   "nbconvert_exporter": "python",
   "pygments_lexer": "ipython3",
   "version": "3.9.10"
  }
 },
 "nbformat": 4,
 "nbformat_minor": 5
}
